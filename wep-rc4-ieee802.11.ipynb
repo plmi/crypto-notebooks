{
 "cells": [
  {
   "cell_type": "markdown",
   "id": "0ca9b219-d4e3-4a33-844c-4dd4851a3735",
   "metadata": {},
   "source": [
    "# RC4 and WEP"
   ]
  },
  {
   "cell_type": "markdown",
   "id": "66ede30a-7450-4907-be9a-3b1d127c143d",
   "metadata": {},
   "source": [
    "* WEP uses RC4 to encrypt packets for transmission over IEEE 802.11 (WLAN)\n",
    "* Every packet must be encrypted with a different RC4 key  to prevent calculation of the keystream\n",
    "* RC4 key = 24-bit IV + 40 or 104-bit long term key\n",
    "* 24-bit IV is short (2^24 ~ 16 million different short term keys)"
   ]
  },
  {
   "cell_type": "markdown",
   "id": "67f590e4-df64-48eb-a885-23fed0f3dbd1",
   "metadata": {},
   "source": [
    "## RC4\n",
    "\n",
    "RC4 (Rivest Cipher 4) is a stream cipher from Ron Rivest (1987). It consists of two phases."
   ]
  },
  {
   "cell_type": "markdown",
   "id": "ddf0f412-84b7-4621-808f-225f8d1470e7",
   "metadata": {
    "tags": []
   },
   "source": [
    "### Key-Scheduling-Algorithm (KSA)\n",
    "\n",
    "The Key-Scheduling-Algorithm (KSA) produces an array-state vector S of length N. S is a pseudo-random permutation S of the values [0..N-1]. It depends on the input key K.\n",
    "\n",
    "For `n = 8`, `N = 2^8 = 256`. This will result in `2^8! ~ 2^1700` possible permutations for the internal state S. It's big enough to store keys of variable sizes."
   ]
  },
  {
   "cell_type": "code",
   "execution_count": null,
   "id": "8149aff1-33d4-4ac7-8974-1290b922dbf7",
   "metadata": {},
   "outputs": [],
   "source": [
    "from typing import List, Tuple\n",
    "\n",
    "def swap(input_list: List[int], i: int, j: int) -> List[int]:\n",
    "    \"\"\"\n",
    "    Swaps two elements at position i and j in a list in O(1)\n",
    "    \n",
    "    Keyword arguments:\n",
    "    input_list -- list of numbers\n",
    "    i -- 0-based index in list\n",
    "    j -- 0-based index in list\n",
    "    \"\"\"\n",
    "    # store in tuple\n",
    "    temp_tuple: Tuple[int, int] = input_list[i], input_list[j]\n",
    "    # unpack again\n",
    "    input_list[j], input_list[i] = temp_tuple\n",
    "      \n",
    "    return list\n",
    "\n",
    "def KSA(key: List[int], N: int) -> List[int]:\n",
    "    \"\"\"\n",
    "    Returns a pseudo-random permutation of the numbers\n",
    "    0 to N-1 depending on the key k in N rounds\n",
    "    \n",
    "    Keyword arguments:\n",
    "    key -- key K, must be multiple of word length n\n",
    "    N -- number of rounds = length of state-vector S\n",
    "    \"\"\"\n",
    "    # initialization phase\n",
    "    S: List[int] = []        #print(f'i = {i}; S[] = {S}\\n')\n",
    "    for i in range(N):\n",
    "        S.append(i)\n",
    "    j: int = 0\n",
    "    #print('after initialization phase:')\n",
    "    #print(f'S[] = {S}\\n')\n",
    "        \n",
    "    # scrambling phase\n",
    "    #print('scrambling phase')\n",
    "    for i in range(N):\n",
    "        # generate pseudo-random value for j\n",
    "        j = (j + S[i] + key[i % len(key)]) % N\n",
    "        swap(S, i, j)\n",
    "        #print(f'i = {i}; S[] = {S}\\n')\n",
    "        \n",
    "    return S\n",
    "        \n",
    "n = 8\n",
    "N = 2**n # number of rounds\n",
    "key = [35, 54, 155, 213, 167, 47, 16, 31]\n",
    "S: List[int] = KSA(key, N)\n",
    "\n",
    "print(f'S[] = {S}')"
   ]
  },
  {
   "cell_type": "markdown",
   "id": "a75fb73a-1c03-4583-ae7d-9e8ec3d381f9",
   "metadata": {
    "tags": []
   },
   "source": [
    "### Pseudo Random Generation Algorithm (PRGA)\n",
    "\n",
    "The Pseudo Random Generation Algorithm (PRGA) uses the permutated state-vector S to generate a stream cipher. S gets continuously permutated. After each permutation one byte of the cipher stream is returned."
   ]
  },
  {
   "cell_type": "code",
   "execution_count": null,
   "id": "6976c1b0-9470-42a7-88bb-377898cce7d2",
   "metadata": {
    "tags": []
   },
   "outputs": [],
   "source": [
    "def PRGA(S: List[int], length: int) -> List[int]:\n",
    "    i: int = 0\n",
    "    j: int = 0\n",
    "    key_stream: List[int] = []\n",
    "    \n",
    "    N: int = len(S)\n",
    "    while(True):\n",
    "        i = (i + 1) % N\n",
    "        print(f'i = {i}')\n",
    "        j = (j + S[i]) % N\n",
    "        print(f'j = {j}')\n",
    "        print(f'before swap: S[i] = {S[i]}, S[j] = {S[j]}')\n",
    "        swap(S, i, j)\n",
    "        print(f'after swap: S[i] = {S[i]}, S[j] = {S[j]}')\n",
    "        index: int = (S[i] + S[j]) % N\n",
    "        print(f'index: {index}')\n",
    "        print(f'S[{index}] = {S[index]}')\n",
    "        key_stream.append(S[index])\n",
    "        if i == length:\n",
    "            break\n",
    "    \n",
    "    return key_stream\n",
    "\n",
    "key_stream: str = PRGA(S, 15)\n",
    "print(f'stream cipher s = : {key_stream}') "
   ]
  },
  {
   "cell_type": "markdown",
   "id": "a1081788-5d4c-42b6-a3bb-fcf1368b116f",
   "metadata": {
    "tags": []
   },
   "source": [
    "### Attacks\n",
    "\n",
    "- [What's wrong with WEP (2001)](https://www.researchgate.net/profile/Stefaan-Seys/publication/265230247_The_Insecurity_of_IEEE_80211_or_What%27s_Wrong_With_WEP/links/56250fb208aeabddac91b5c3/The-Insecurity-of-IEEE-80211-or-Whats-Wrong-With-WEP.pdf)\n",
    "- [Weaknesses in the Key Scheduling Algorithm of RC4 (2001)](https://link.springer.com/chapter/10.1007/3-540-45537-X_1)\n",
    "- [Breaking 104 Bit WEP in Less Than 60 Seconds (2007)](https://link.springer.com/chapter/10.1007/978-3-540-77535-5_14)\n",
    "\n",
    "\n",
    "The security of RC4 only relies on the secret key `k` and the initialization vector `IV`. For the same (`k`, `IV`) RC4 is deterministic.\n",
    "\n",
    "```\n",
    "s = RC4(k, IV)\n",
    "```\n",
    "\n",
    "The reuse of the stream cipher `s` makes RC4 vulnerable to COA and KPA."
   ]
  }
 ],
 "metadata": {
  "kernelspec": {
   "display_name": "Python 3 (ipykernel)",
   "language": "python",
   "name": "python3"
  },
  "language_info": {
   "codemirror_mode": {
    "name": "ipython",
    "version": 3
   },
   "file_extension": ".py",
   "mimetype": "text/x-python",
   "name": "python",
   "nbconvert_exporter": "python",
   "pygments_lexer": "ipython3",
   "version": "3.9.14"
  }
 },
 "nbformat": 4,
 "nbformat_minor": 5
}
