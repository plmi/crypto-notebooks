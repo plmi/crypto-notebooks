{
 "cells": [
  {
   "cell_type": "markdown",
   "id": "0db0f13f-8bbd-4771-9acb-cab1689cd85f",
   "metadata": {
    "jp-MarkdownHeadingCollapsed": true,
    "tags": []
   },
   "source": [
    "## Bruteforce discrete logarithm problem in a multiplicative group of a finite prime field\n",
    "\n",
    "Let `a` be a primitive element in Zp* and `b` a group element of Zp*. The discrete logarithm problem is to find `x` in `1 <= x <= p-1` so that: `a^x = b mod p`.  \n",
    "There is no easy way to calculate `x = dlog(a, b) mod p` (*dlog of b to the base a*).\n",
    "\n",
    "### Exercise\n",
    "\n",
    "Calculate `x = dlog(106, 12375) mod 24691`"
   ]
  },
  {
   "cell_type": "code",
   "execution_count": 5,
   "id": "1a0d5ce1-0edc-4e82-9287-5f62d71d6c72",
   "metadata": {},
   "outputs": [],
   "source": [
    "def bruteforce_dlp(a: int, b: int, p: int) -> int:\n",
    "    result: int = None\n",
    "    x: int = 1\n",
    "    while True:\n",
    "        result = a ** x % p\n",
    "        if result == b:\n",
    "            break\n",
    "        x += 1\n",
    "    return x\n",
    "\n",
    "a: int = 106\n",
    "b: int = 12375\n",
    "p: int = 24691\n",
    "\n",
    "x: int = bruteforce_dlp(a, b, p)\n",
    "print(f'"
   ]
  }
 ],
 "metadata": {
  "kernelspec": {
   "display_name": "Python 3 (ipykernel)",
   "language": "python",
   "name": "python3"
  },
  "language_info": {
   "codemirror_mode": {
    "name": "ipython",
    "version": 3
   },
   "file_extension": ".py",
   "mimetype": "text/x-python",
   "name": "python",
   "nbconvert_exporter": "python",
   "pygments_lexer": "ipython3",
   "version": "3.9.14"
  }
 },
 "nbformat": 4,
 "nbformat_minor": 5
}
